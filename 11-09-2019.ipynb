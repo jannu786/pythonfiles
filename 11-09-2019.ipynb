{
 "cells": [
  {
   "cell_type": "markdown",
   "metadata": {},
   "source": [
    "### reverse the number"
   ]
  },
  {
   "cell_type": "code",
   "execution_count": 14,
   "metadata": {},
   "outputs": [
    {
     "name": "stdout",
     "output_type": "stream",
     "text": [
      "enter the value12311\n"
     ]
    },
    {
     "data": {
      "text/plain": [
       "11321"
      ]
     },
     "execution_count": 14,
     "metadata": {},
     "output_type": "execute_result"
    }
   ],
   "source": [
    "a=(input(\"enter the value\"))\n",
    "b=a[::-1]\n",
    "int(b)\n",
    "b=int(b)\n",
    "b"
   ]
  },
  {
   "cell_type": "markdown",
   "metadata": {},
   "source": [
    "## special number"
   ]
  },
  {
   "cell_type": "code",
   "execution_count": 33,
   "metadata": {},
   "outputs": [
    {
     "name": "stdout",
     "output_type": "stream",
     "text": [
      "enter the value99\n",
      "99 special number\n"
     ]
    }
   ],
   "source": [
    "a=input(\"enter the value\")\n",
    "int(a)\n",
    "b=int(a)\n",
    "if(b<9):\n",
    "    print(\"invalid\")\n",
    "else:\n",
    "    coef=b%10\n",
    "    rem=b//10\n",
    "    sum=coef+rem\n",
    "    product=coef*rem\n",
    "    c=sum+product\n",
    "if(c==b):\n",
    "    print(b,\"special number\")\n",
    "else:\n",
    "    print(b,\"not a special number\")\n",
    "   "
   ]
  },
  {
   "cell_type": "markdown",
   "metadata": {},
   "source": [
    "### perfect number in the range"
   ]
  },
  {
   "cell_type": "code",
   "execution_count": 52,
   "metadata": {},
   "outputs": [
    {
     "name": "stdout",
     "output_type": "stream",
     "text": [
      "enter the lb1\n",
      "enter the ub10\n",
      "6\n"
     ]
    }
   ],
   "source": [
    "a=int(input(\"enter the lb\"))\n",
    "b=int(input(\"enter the ub\"))\n",
    "s=0\n",
    "def findthefact(n,s):\n",
    "    for i in range(1,n):\n",
    "        if n%i==0:\n",
    "            s=s+i\n",
    "    if s==n:\n",
    "        print(n)\n",
    "for k in range(a,b+1):\n",
    "    findthefact(k,s)\n",
    "    \n",
    "    \n",
    "\n"
   ]
  },
  {
   "cell_type": "markdown",
   "metadata": {},
   "source": [
    "## prime number in the given range"
   ]
  },
  {
   "cell_type": "code",
   "execution_count": 57,
   "metadata": {},
   "outputs": [
    {
     "name": "stdout",
     "output_type": "stream",
     "text": [
      "enter the lb1\n",
      "enter the ub10\n",
      "2\n",
      "3\n",
      "5\n",
      "7\n"
     ]
    }
   ],
   "source": [
    "a=int(input(\"enter the lb\"))\n",
    "b=int(input(\"enter the ub\"))\n",
    "s=0\n",
    "def findfactors(n,s):\n",
    "    for i in range(1,n):\n",
    "        if n%i==0:\n",
    "           s=s+i\n",
    "    if s==1:\n",
    "        print(n)\n",
    "for k in range(a,b+1):\n",
    "    findfactors(k,s)"
   ]
  }
 ],
 "metadata": {
  "kernelspec": {
   "display_name": "Python 3",
   "language": "python",
   "name": "python3"
  },
  "language_info": {
   "codemirror_mode": {
    "name": "ipython",
    "version": 3
   },
   "file_extension": ".py",
   "mimetype": "text/x-python",
   "name": "python",
   "nbconvert_exporter": "python",
   "pygments_lexer": "ipython3",
   "version": "3.7.3"
  }
 },
 "nbformat": 4,
 "nbformat_minor": 2
}
